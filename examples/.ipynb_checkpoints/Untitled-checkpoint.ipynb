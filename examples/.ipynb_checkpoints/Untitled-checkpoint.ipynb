{
 "cells": [
  {
   "cell_type": "code",
   "execution_count": 51,
   "id": "7b138fec",
   "metadata": {},
   "outputs": [],
   "source": [
    "# Example of line integral convolution (LIC) and pseudovector representation of magnetic field orientations\n",
    "#\n",
    "# This file is part of Magnetar\n",
    "#\n",
    "# Copyright (C) 2013-2023 Juan Diego Soler\n",
    "\n",
    "import sys\n",
    "import numpy as np\n",
    "from astropy.io import fits\n",
    "import matplotlib\n",
    "import matplotlib.pyplot as plt\n",
    "import matplotlib.colors as colors\n",
    "\n",
    "sys.path.append(\"/Users/soler/Documents/PYTHON/magnetar/\")\n",
    "from hro import *\n",
    "from bvisual import *\n",
    "\n",
    "from astropy.wcs import WCS\n",
    "from reproject import reproject_interp\n",
    "\n",
    "import os\n",
    "import imageio\n",
    "\n",
    "indir='data/'\n",
    "prefix='Taurusfwhm10'"
   ]
  },
  {
   "cell_type": "code",
   "execution_count": 52,
   "id": "d682d373",
   "metadata": {},
   "outputs": [],
   "source": [
    "indir=\"/Users/soler/Documents/PYTHON/magnetar/data/\"\n",
    "hdu=fits.open(indir+\"Taurusfwhm5_logNHmap.fits\")\n",
    "logNHmap=hdu[0].data\n",
    "refhdr1=hdu[0].header\n",
    "hdu=fits.open(indir+prefix+\"_Qmap.fits\")\n",
    "Qmap=hdu[0].data\n",
    "hdu=fits.open(indir+prefix+\"_Umap.fits\")\n",
    "Umap=hdu[0].data"
   ]
  },
  {
   "cell_type": "code",
   "execution_count": 53,
   "id": "7a8838ae",
   "metadata": {},
   "outputs": [],
   "source": [
    "# Calculation of the polarization angle \n",
    "psi=0.5*np.arctan2(-Umap,Qmap)\n",
    "ex=-np.sin(psi); ey=np.cos(psi)\n",
    "# 90 degrees rotation to obtain the magnetic field orientation\n",
    "bx=ey; by=-ex"
   ]
  },
  {
   "cell_type": "code",
   "execution_count": 54,
   "id": "fba510bc",
   "metadata": {},
   "outputs": [],
   "source": [
    "# Compute vectors to display\n",
    "x, y, ux, uy = vectors(Imap, bx, by, pitch=15)"
   ]
  },
  {
   "cell_type": "code",
   "execution_count": 55,
   "id": "d3014579",
   "metadata": {},
   "outputs": [],
   "source": [
    "# Setting the integration length for the LIC calculation \n",
    "sz=np.shape(Qmap)\n",
    "length=int(0.05*sz[0]) \n",
    "# Setting number of iterations in the LIC calculation\n",
    "niter=3   "
   ]
  },
  {
   "cell_type": "code",
   "execution_count": null,
   "id": "f3daed82",
   "metadata": {},
   "outputs": [
    {
     "name": "stderr",
     "output_type": "stream",
     "text": [
      "\r",
      "  0%|          | 0/27 [00:00<?, ?it/s]"
     ]
    },
    {
     "name": "stdout",
     "output_type": "stream",
     "text": [
      "iter 1 / 3\n"
     ]
    },
    {
     "name": "stderr",
     "output_type": "stream",
     "text": [
      " 22%|██▏       | 6/27 [00:12<00:45,  2.17s/it]"
     ]
    }
   ],
   "source": [
    "liccube=lic(bx, by, length=length, niter=niter)\n",
    "licmap=liccube[niter-1]"
   ]
  },
  {
   "cell_type": "code",
   "execution_count": null,
   "id": "06942ea5",
   "metadata": {},
   "outputs": [],
   "source": [
    "licmin=np.mean(licmap)-np.std(licmap)\n",
    "licmax=np.mean(licmap)+np.std(licmap)"
   ]
  },
  {
   "cell_type": "code",
   "execution_count": null,
   "id": "7c00bd18",
   "metadata": {},
   "outputs": [],
   "source": [
    "# Reproducing Figure 1 of Planck Collaboration XXXV. A&A, 586 (2016) A138 using LIC and pseudovectors\n",
    "fig = plt.figure(figsize=(15.0,6.5))\n",
    "plt.rc('font', size=10)\n",
    "ax1=plt.subplot(121, projection=WCS(refhdr1))\n",
    "im=ax1.imshow(10**logNHmap, origin='lower', interpolation='none', norm=colors.LogNorm(), cmap=planckct())\n",
    "ax1.imshow(licmap, origin='lower', alpha=0.3, cmap='binary', vmin=licmin, vmax=licmax)\n",
    "ax1.set_xlabel(r'$l$')\n",
    "ax1.set_ylabel(r'$b$')\n",
    "ax2=plt.subplot(122, projection=WCS(refhdr1))\n",
    "im=ax2.imshow(10**logNHmap, origin='lower', interpolation='none', norm=colors.LogNorm(), cmap=planckct())\n",
    "arrows=plt.quiver(x, y, ux, uy, units='width', color='black', pivot='middle', scale=25., headlength=0, headwidth=1, transform=ax2.get_transform('pixel'), alpha=0.6)\n",
    "ax2.set_xlabel(r'$l$')\n",
    "ax2.set_ylabel(r' ')\n",
    "cbar=plt.colorbar(im, fraction=0.046, pad=0.04)\n",
    "cbar.ax.set_title(r'$N_{\\rm H}$')\n",
    "plt.tight_layout()\n",
    "plt.show()"
   ]
  },
  {
   "cell_type": "code",
   "execution_count": null,
   "id": "71089354",
   "metadata": {},
   "outputs": [],
   "source": []
  }
 ],
 "metadata": {
  "kernelspec": {
   "display_name": "Python 3",
   "language": "python",
   "name": "python3"
  },
  "language_info": {
   "codemirror_mode": {
    "name": "ipython",
    "version": 3
   },
   "file_extension": ".py",
   "mimetype": "text/x-python",
   "name": "python",
   "nbconvert_exporter": "python",
   "pygments_lexer": "ipython3",
   "version": "3.8.8"
  }
 },
 "nbformat": 4,
 "nbformat_minor": 5
}
